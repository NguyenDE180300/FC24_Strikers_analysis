{
 "cells": [
  {
   "cell_type": "markdown",
   "metadata": {},
   "source": [
    "# Import Library"
   ]
  },
  {
   "cell_type": "code",
   "execution_count": 1252,
   "metadata": {},
   "outputs": [],
   "source": [
    "import pandas as pd\n",
    "import matplotlib.pyplot as plt\n",
    "import numpy as np\n",
    "import scipy.stats as stats\n",
    "import seaborn as sns\n",
    "from scipy.stats import jarque_bera\n",
    "from sklearn.linear_model import LinearRegression\n",
    "from sklearn.metrics import mean_squared_error, r2_score\n",
    "from sklearn.model_selection import train_test_split"
   ]
  },
  {
   "cell_type": "code",
   "execution_count": 1176,
   "metadata": {},
   "outputs": [
    {
     "name": "stderr",
     "output_type": "stream",
     "text": [
      "C:\\Users\\Admin\\AppData\\Local\\Temp\\ipykernel_15936\\1666935474.py:1: DtypeWarning: Columns (4,5,19,20,21,22,23,25,26,27,28,29,31,32,33,34,35,37,38,39,40,41,43,44,45,46,47,48,50,51,52,54,55,56,57,58,76) have mixed types. Specify dtype option on import or set low_memory=False.\n",
      "  df = pd.read_csv('fifa_players.csv')\n"
     ]
    }
   ],
   "source": [
    "df = pd.read_csv('fifa_players.csv')"
   ]
  },
  {
   "cell_type": "code",
   "execution_count": 1177,
   "metadata": {},
   "outputs": [
    {
     "name": "stdout",
     "output_type": "stream",
     "text": [
      "<class 'pandas.core.frame.DataFrame'>\n",
      "RangeIndex: 353198 entries, 0 to 353197\n",
      "Data columns (total 82 columns):\n",
      " #   Column                    Non-Null Count   Dtype  \n",
      "---  ------                    --------------   -----  \n",
      " 0   ID                        353198 non-null  int64  \n",
      " 1   date_id                   353198 non-null  int64  \n",
      " 2   player_name               353198 non-null  object \n",
      " 3   Age                       353198 non-null  int64  \n",
      " 4   Overall rating            353198 non-null  object \n",
      " 5   Potential                 353198 non-null  object \n",
      " 6   name                      353198 non-null  object \n",
      " 7   Height                    353198 non-null  int64  \n",
      " 8   Weight                    353198 non-null  int64  \n",
      " 9   foot                      353198 non-null  object \n",
      " 10  Best overall              353198 non-null  int64  \n",
      " 11  Best position             353198 non-null  object \n",
      " 12  Growth                    353198 non-null  int64  \n",
      " 13  Joined                    353198 non-null  object \n",
      " 14  Loan date end             28471 non-null   object \n",
      " 15  Value                     353198 non-null  object \n",
      " 16  Wage                      353198 non-null  object \n",
      " 17  Release clause            353198 non-null  object \n",
      " 18  Total attacking           353198 non-null  int64  \n",
      " 19  Crossing                  353198 non-null  object \n",
      " 20  Finishing                 353198 non-null  object \n",
      " 21  Heading accuracy          353198 non-null  object \n",
      " 22  Short passing             353198 non-null  object \n",
      " 23  Volleys                   353198 non-null  object \n",
      " 24  Total skill               353198 non-null  int64  \n",
      " 25  Dribbling                 353198 non-null  object \n",
      " 26  Curve                     353198 non-null  object \n",
      " 27  FK Accuracy               353198 non-null  object \n",
      " 28  Long passing              353198 non-null  object \n",
      " 29  Ball control              353198 non-null  object \n",
      " 30  Total movement            353198 non-null  int64  \n",
      " 31  Acceleration              353198 non-null  object \n",
      " 32  Sprint speed              353198 non-null  object \n",
      " 33  Agility                   353198 non-null  object \n",
      " 34  Reactions                 353198 non-null  object \n",
      " 35  Balance                   353198 non-null  object \n",
      " 36  Total power               353198 non-null  int64  \n",
      " 37  Shot power                353198 non-null  object \n",
      " 38  Jumping                   353198 non-null  object \n",
      " 39  Stamina                   353198 non-null  object \n",
      " 40  Strength                  353198 non-null  object \n",
      " 41  Long shots                353198 non-null  object \n",
      " 42  Total mentality           353198 non-null  int64  \n",
      " 43  Aggression                353198 non-null  object \n",
      " 44  Interceptions             353198 non-null  object \n",
      " 45  Att. Position             353198 non-null  object \n",
      " 46  Vision                    353198 non-null  object \n",
      " 47  Penalties                 353198 non-null  object \n",
      " 48  Composure                 353198 non-null  object \n",
      " 49  Total defending           353198 non-null  int64  \n",
      " 50  Defensive awareness       353198 non-null  object \n",
      " 51  Standing tackle           353198 non-null  object \n",
      " 52  Sliding tackle            353198 non-null  object \n",
      " 53  Total goalkeeping         353198 non-null  int64  \n",
      " 54  GK Diving                 353198 non-null  object \n",
      " 55  GK Handling               353198 non-null  object \n",
      " 56  GK Kicking                353198 non-null  object \n",
      " 57  GK Positioning            353198 non-null  object \n",
      " 58  GK Reflexes               353198 non-null  object \n",
      " 59  Total stats               353198 non-null  int64  \n",
      " 60  Base stats                353198 non-null  int64  \n",
      " 61  Weak foot                 353198 non-null  int64  \n",
      " 62  Skill moves               353198 non-null  int64  \n",
      " 63  Attacking work rate       353198 non-null  object \n",
      " 64  Defensive work rate       353198 non-null  object \n",
      " 65  International reputation  353198 non-null  int64  \n",
      " 66  Body type                 353198 non-null  object \n",
      " 67  Real face                 353198 non-null  object \n",
      " 68  Pace / Diving             353198 non-null  int64  \n",
      " 69  Shooting / Handling       353198 non-null  int64  \n",
      " 70  Passing / Kicking         353198 non-null  int64  \n",
      " 71  Dribbling / Reflexes      353198 non-null  int64  \n",
      " 72  Defending / Pace          353198 non-null  int64  \n",
      " 73  Physical / Positioning    353198 non-null  int64  \n",
      " 74  Traits                    0 non-null       float64\n",
      " 75  PlayStyles                188678 non-null  object \n",
      " 76  PlayStyles +              1910 non-null    object \n",
      " 77  Number of playstyles      353198 non-null  int64  \n",
      " 78  date                      353198 non-null  object \n",
      " 79  club_name                 345359 non-null  object \n",
      " 80  start_year                322944 non-null  float64\n",
      " 81  end_year                  322944 non-null  float64\n",
      "dtypes: float64(3), int64(26), object(53)\n",
      "memory usage: 221.0+ MB\n"
     ]
    }
   ],
   "source": [
    "df.info()"
   ]
  },
  {
   "cell_type": "markdown",
   "metadata": {},
   "source": [
    "# Pre-processing"
   ]
  },
  {
   "cell_type": "code",
   "execution_count": 1178,
   "metadata": {},
   "outputs": [
    {
     "data": {
      "text/plain": [
       "array(['/players?pn=25', '/players?pn=14', '/players?pn=10',\n",
       "       '/players?pn=0', '/players?pn=18', '/players?pn=5',\n",
       "       '/players?pn=27', '/players?pn=23', '/players?pn=21',\n",
       "       '/players?pn=16', '/players?pn=12', '/players?pn=7',\n",
       "       '/players?pn=3', '/players?pn=8', '/players?pn=2'], dtype=object)"
      ]
     },
     "execution_count": 1178,
     "metadata": {},
     "output_type": "execute_result"
    }
   ],
   "source": [
    "df['Best position'].unique()"
   ]
  },
  {
   "cell_type": "markdown",
   "metadata": {},
   "source": [
    "25 = ST;\n",
    "0 = GK;\n",
    "14 = CM;\n",
    "10 = CDM;\n",
    "18 = CF;\n",
    "5 = CB;\n",
    "27 = LWF;\n",
    "23 = RWF;\n",
    "21 = ST/CF;\n",
    "16 = RW/RM;\n",
    "12 = RM;\n",
    "7 = LB;\n",
    "3 = RB;\n",
    "8 = LWB;\n",
    "2 = RWB;"
   ]
  },
  {
   "cell_type": "code",
   "execution_count": 1179,
   "metadata": {},
   "outputs": [
    {
     "data": {
      "text/plain": [
       "array(['ST', 'CM', 'CDM', 'GK', 'CF', 'CB', 'LWF', 'RWF', 'ST/CF',\n",
       "       'RW/RM', 'RM', 'LB', 'RB', 'LWB', 'RWB'], dtype=object)"
      ]
     },
     "execution_count": 1179,
     "metadata": {},
     "output_type": "execute_result"
    }
   ],
   "source": [
    "position_mapping = {\n",
    "    '/players?pn=25': 'ST',\n",
    "    '/players?pn=0': 'GK',\n",
    "    '/players?pn=14': 'CM',\n",
    "    '/players?pn=10': 'CDM',\n",
    "    '/players?pn=18': 'CF',\n",
    "    '/players?pn=5': 'CB',\n",
    "    '/players?pn=27': 'LWF',\n",
    "    '/players?pn=23': 'RWF',\n",
    "    '/players?pn=21': 'ST/CF',\n",
    "    '/players?pn=16': 'RW/RM',\n",
    "    '/players?pn=12': 'RM',\n",
    "    '/players?pn=7': 'LB',\n",
    "    '/players?pn=3': 'RB',\n",
    "    '/players?pn=8': 'LWB',\n",
    "    '/players?pn=2': 'RWB'\n",
    "}\n",
    "df['Position'] = df['Best position'].map(position_mapping)\n",
    "df['Position'].unique()"
   ]
  },
  {
   "cell_type": "code",
   "execution_count": 1180,
   "metadata": {},
   "outputs": [],
   "source": [
    "def calculate_overall_rating(rating):\n",
    "    # Kiểm tra nếu rating là số\n",
    "    if isinstance(rating, int):\n",
    "        return rating\n",
    "    if '+' in rating:\n",
    "        base_value, change = rating.split('+')\n",
    "        return int(base_value)  # Cộng giá trị\n",
    "    elif '-' in rating:\n",
    "        base_value, change = rating.split('-')\n",
    "        return int(base_value)  # Trừ giá trị\n",
    "    else:\n",
    "        return int(rating)"
   ]
  },
  {
   "cell_type": "code",
   "execution_count": 1181,
   "metadata": {},
   "outputs": [
    {
     "name": "stdout",
     "output_type": "stream",
     "text": [
      "[91 90 89 88 87 86 85 84 83 82 81 80 79 78 77 76 75 74 73 72 71 70 69 68\n",
      " 67 66 65 64 63 62 61 60 59 58 57 56 55 54 53 52 51 50 49 48 47 45]\n"
     ]
    }
   ],
   "source": [
    "df['Overall rating'] = df['Overall rating'].apply(calculate_overall_rating)\n",
    "\n",
    "print(df['Overall rating'].unique())"
   ]
  },
  {
   "cell_type": "code",
   "execution_count": 1182,
   "metadata": {},
   "outputs": [
    {
     "name": "stdout",
     "output_type": "stream",
     "text": [
      "[94 91 90 89 92 88 87 93 86 85 84 83 82 81 80 79 78 77 76 75 74 73 72 71\n",
      " 70 69 68 67 66 65 64 63 62 61 60 59 58 57 56 55 54 53 52 51 50 49]\n"
     ]
    }
   ],
   "source": [
    "df['Potential'] = df['Potential'].apply(calculate_overall_rating)\n",
    "print(df['Potential'].unique())"
   ]
  },
  {
   "cell_type": "code",
   "execution_count": 1183,
   "metadata": {},
   "outputs": [
    {
     "name": "stdout",
     "output_type": "stream",
     "text": [
      "[96 94 85 70 95 14 93 89 29 13 92 52 83 91 87 78 11 90 79 10 64 12 72 15\n",
      " 68 82 59 56 81 84 48 86 75 55 69 16 76 35 47 26 67 37 80 66 40 54 62 88\n",
      " 65  6 49 23 50 33 53 43 51 77 71 24 74 46 39 36 32 45 30 63 38 73 42 31\n",
      " 19 17 61 60  9 25 57  5 58 20 34  8 44 27 18 41 22 21  4 28  7  3]\n"
     ]
    }
   ],
   "source": [
    "df['Finishing'] = df['Finishing'].apply(calculate_overall_rating)\n",
    "print(df['Finishing'].unique())"
   ]
  },
  {
   "cell_type": "code",
   "execution_count": 1184,
   "metadata": {},
   "outputs": [
    {
     "name": "stdout",
     "output_type": "stream",
     "text": [
      "[83 73 55 81 89 13 91 60 87 50 29 59 11 63 90 69 86 54 14 15 85 42 72 84\n",
      " 12 17 88 70 25 49 62 45 65 47 61 43 53 67 56 26 16 58 75 80 82 74 18 35\n",
      " 76 78 48 77 79 10 52 64 68 28 71 51 20 57 44 41 40 19 23 66 46 37 38 30\n",
      " 36 39 24 93  9  7 33 34  8 32 31 22  5 27 21  6]\n"
     ]
    }
   ],
   "source": [
    "df['Heading accuracy'] = df['Heading accuracy'].apply(calculate_overall_rating)\n",
    "print(df['Heading accuracy'].unique())"
   ]
  },
  {
   "cell_type": "code",
   "execution_count": 1185,
   "metadata": {},
   "outputs": [
    {
     "name": "stdout",
     "output_type": "stream",
     "text": [
      "[77 86 94 92 87 33 84 91 83 80 60 85 61 89 75 65 43 90 39 71 36 88 82 76\n",
      " 78 57 32 79 38 40 72 58 69 73 42 81 74 50 54 67 35 25 29 30 62 48 20 55\n",
      " 49 63 70 66 28 26 45 27 44 34 37 68 64 11 18 51 31 23 59 53 24 22 21 41\n",
      " 15 52 19 47 56 17 14 16 46 13 12 10]\n"
     ]
    }
   ],
   "source": [
    "df['Short passing'] = df['Short passing'].apply(calculate_overall_rating)\n",
    "print(df['Short passing'].unique())"
   ]
  },
  {
   "cell_type": "code",
   "execution_count": 1186,
   "metadata": {},
   "outputs": [
    {
     "name": "stdout",
     "output_type": "stream",
     "text": [
      "[90 84 83 59 89 12 86 32 72 20 45 14 88 74 70 91 78 18 13 10 50  8 79 16\n",
      " 69 87 35 76 11 38 56 64 34 68 80 62 63 75 82 67 66 28 17 77 60 71 44 58\n",
      " 43  7 24 55 15 46 48 57 49 61 27 51 73 52 40 81 33 47 65 25 53 31 42 39\n",
      " 54 41 85 21 19 37  9 23 29 36 30  5 26  6 22  4]\n"
     ]
    }
   ],
   "source": [
    "df['Volleys'] = df['Volleys'].apply(calculate_overall_rating)\n",
    "print(df['Volleys'].unique())"
   ]
  },
  {
   "cell_type": "code",
   "execution_count": 1187,
   "metadata": {},
   "outputs": [
    {
     "name": "stdout",
     "output_type": "stream",
     "text": [
      "[79 93 86 81 82 13 96 64 92 27 88 70 21 95 87 83 85 30 12 24 28 31 78 69\n",
      " 84 94 55 90 89 17 11 80 77 74 72 73 54 20 76 15 22 62 57 65 61 19 59 67\n",
      " 63 18 60 68 26 52 14 10 75 56 71 16 48 66 51 47 58 45 25 35  9 50  8 44\n",
      " 34 53 40 49 46 41 23 42 37 43 29 32 39 38  7 33 36  5  6  4  3]\n"
     ]
    }
   ],
   "source": [
    "df['Dribbling'] = df['Dribbling'].apply(calculate_overall_rating)\n",
    "print(df['Dribbling'].unique())"
   ]
  },
  {
   "cell_type": "code",
   "execution_count": 1188,
   "metadata": {},
   "outputs": [
    {
     "name": "stdout",
     "output_type": "stream",
     "text": [
      "[82 97 74 59 67 42 76 87 54 95 60 89 66 45 88 81 84 83 78 64 38 68 50 80\n",
      " 77 85 75 48 94 86 73 62 72 56 65 51 55 92 61 79 71 69 96 91 58 90 40 70\n",
      " 52 53 33 47 93 57 44 35 43 41 49 63 31 46 34 36 37 24 28 30 32 39 27 25\n",
      " 26 29 20 23 15 17 18 16 19 21 22 14 12]\n"
     ]
    }
   ],
   "source": [
    "df['Acceleration'] = df['Acceleration'].apply(calculate_overall_rating)\n",
    "print(df['Acceleration'].unique())"
   ]
  },
  {
   "cell_type": "code",
   "execution_count": 1189,
   "metadata": {},
   "outputs": [
    {
     "name": "stdout",
     "output_type": "stream",
     "text": [
      "[94 97 74 65 71 52 75 69 95 49 89 87 50 85 77 80 91 68 63 53 92 55 83 82\n",
      " 88 70 86 76 78 93 79 66 57 59 60 47 48 64 37 54 72 90 84 67 46 73 61 81\n",
      " 39 45 38 51 34 40 42 56 44 62 36 30 33 41 58 96 43 35 32 18 25 20 31 29\n",
      " 24 28 26 23 27 22 15 17 16 21 19]\n"
     ]
    }
   ],
   "source": [
    "df['Sprint speed'] = df['Sprint speed'].apply(calculate_overall_rating)\n",
    "print(df['Sprint speed'].unique())"
   ]
  },
  {
   "cell_type": "code",
   "execution_count": 1190,
   "metadata": {},
   "outputs": [
    {
     "name": "stdout",
     "output_type": "stream",
     "text": [
      "[78 93 76 65 66 63 77 91 60 94 40 89 59 39 82 88 95 64 87 37 55 57 85 41\n",
      " 84 68 81 92 51 56 86 70 90 73 62 75 79 83 49 50 71 47 69 72 52 74 36 45\n",
      " 54 67 42 53 80 34 61 48 38 46 58 43 32 20 44 35 21 31 33 30 29 22 27 23\n",
      " 26 25 28 24 13 17 18 16]\n"
     ]
    }
   ],
   "source": [
    "df['Agility'] = df['Agility'].apply(calculate_overall_rating)\n",
    "print(df['Agility'].unique())"
   ]
  },
  {
   "cell_type": "code",
   "execution_count": 1191,
   "metadata": {},
   "outputs": [
    {
     "name": "stdout",
     "output_type": "stream",
     "text": [
      "[72 82 78 67 73 45 83 95 56 84 37 91 50 43 79 68 89 92 48 86 29 65 38 76\n",
      " 74 35 55 90 88 80 62 81 63 49 77 51 71 61 59 57 47 87 85 58 53 70 40 69\n",
      " 42 33 52 75 66 34 64 93 54 44 39 30 60 26 24 31 25 46 20 36 41 94 28 32\n",
      " 21 27 23 22 19 96]\n"
     ]
    }
   ],
   "source": [
    "df['Balance'] = df['Balance'].apply(calculate_overall_rating)\n",
    "print(df['Balance'].unique())"
   ]
  },
  {
   "cell_type": "code",
   "execution_count": 1192,
   "metadata": {},
   "outputs": [
    {
     "name": "stdout",
     "output_type": "stream",
     "text": [
      "[94 90 92 93 57 91 83 74 76 64 82 81 67 79 87 89 85 68 59 75 55 78 86 65\n",
      " 88 73 80 62 84 60 48 50 72 71 58 77 51 56 42 69 37 63 52 54 61 53 45 40\n",
      " 70 66 47 49 27 44 46 29 43 41 34 36 35 38 32 33 25 28 31 26 30 39 20 23\n",
      " 21 24 22 19 18]\n"
     ]
    }
   ],
   "source": [
    "df['Shot power'] = df['Shot power'].apply(calculate_overall_rating)\n",
    "print(df['Shot power'].unique())"
   ]
  },
  {
   "cell_type": "code",
   "execution_count": 1193,
   "metadata": {},
   "outputs": [
    {
     "name": "stdout",
     "output_type": "stream",
     "text": [
      "[76 88 89 81 38 70 78 84 32 87 72 35 80 93 44 42 86 83 30 91 39 85 95 43\n",
      " 79 77 68 94 73 74 40 82 75 45 90 71 92 69 37 64 65 53 63 28 67 59 58 61\n",
      " 54 29 31 34 60 36 55 52 50 27 66 62 33 23 25 26 19 41 49 57 56 21 51 24\n",
      " 20 22 48 18 47 17 15 46 16 14 13]\n"
     ]
    }
   ],
   "source": [
    "df['Stamina'] = df['Stamina'].apply(calculate_overall_rating)\n",
    "print(df['Stamina'].unique())"
   ]
  },
  {
   "cell_type": "code",
   "execution_count": 1194,
   "metadata": {},
   "outputs": [
    {
     "name": "stdout",
     "output_type": "stream",
     "text": [
      "[93 77 75 83 84 70 89 68 90 65 78 51 80 54 69 53 81 79 86 74 56 60 64 58\n",
      " 87 73 63 47 52 67 62 57 88 72 76 59 66 71 91 61 82 85 95 44 40 92 94 38\n",
      " 49 55 39 42 45 46 35 41 50 34 32 33 43 48 36 37 31 30 96 29 25 22 26 28\n",
      " 23 27]\n"
     ]
    }
   ],
   "source": [
    "df['Strength'] = df['Strength'].apply(calculate_overall_rating)\n",
    "print(df['Strength'].unique())"
   ]
  },
  {
   "cell_type": "code",
   "execution_count": 1195,
   "metadata": {},
   "outputs": [],
   "source": [
    "st_players = df[df['Position'] == 'ST']\n",
    "\n",
    "selected_columns_st = [\n",
    "    'player_name', 'Age', 'Height', 'Weight', 'foot', 'Weak foot', 'Skill moves',\n",
    "    'Overall rating', 'Potential', 'Best overall', 'Best position',\n",
    "    'Total attacking', 'Finishing', 'Heading accuracy', 'Short passing', 'Volleys',\n",
    "    'Total skill', 'Dribbling',\n",
    "    'Total movement', 'Acceleration', 'Sprint speed', 'Agility', 'Balance',\n",
    "    'Total power', 'Shot power', 'Stamina', 'Strength', 'Number of playstyles'\n",
    "]\n",
    "\n",
    "st_players = st_players[selected_columns_st]"
   ]
  },
  {
   "cell_type": "code",
   "execution_count": 1196,
   "metadata": {},
   "outputs": [
    {
     "name": "stdout",
     "output_type": "stream",
     "text": [
      "<class 'pandas.core.frame.DataFrame'>\n",
      "Index: 49247 entries, 0 to 353191\n",
      "Data columns (total 27 columns):\n",
      " #   Column                Non-Null Count  Dtype \n",
      "---  ------                --------------  ----- \n",
      " 0   player_name           49247 non-null  object\n",
      " 1   Age                   49247 non-null  int64 \n",
      " 2   Height                49247 non-null  int64 \n",
      " 3   Weight                49247 non-null  int64 \n",
      " 4   foot                  49247 non-null  object\n",
      " 5   Weak foot             49247 non-null  int64 \n",
      " 6   Skill moves           49247 non-null  int64 \n",
      " 7   Overall rating        49247 non-null  int64 \n",
      " 8   Potential             49247 non-null  int64 \n",
      " 9   Best overall          49247 non-null  int64 \n",
      " 10  Total attacking       49247 non-null  int64 \n",
      " 11  Finishing             49247 non-null  int64 \n",
      " 12  Heading accuracy      49247 non-null  int64 \n",
      " 13  Short passing         49247 non-null  int64 \n",
      " 14  Volleys               49247 non-null  int64 \n",
      " 15  Total skill           49247 non-null  int64 \n",
      " 16  Dribbling             49247 non-null  int64 \n",
      " 17  Total movement        49247 non-null  int64 \n",
      " 18  Acceleration          49247 non-null  int64 \n",
      " 19  Sprint speed          49247 non-null  int64 \n",
      " 20  Agility               49247 non-null  int64 \n",
      " 21  Balance               49247 non-null  int64 \n",
      " 22  Total power           49247 non-null  int64 \n",
      " 23  Shot power            49247 non-null  int64 \n",
      " 24  Stamina               49247 non-null  int64 \n",
      " 25  Strength              49247 non-null  int64 \n",
      " 26  Number of playstyles  49247 non-null  int64 \n",
      "dtypes: int64(25), object(2)\n",
      "memory usage: 10.5+ MB\n"
     ]
    }
   ],
   "source": [
    "st_players.drop(columns='Best position', inplace=True)\n",
    "st_players.info()"
   ]
  },
  {
   "cell_type": "code",
   "execution_count": 1197,
   "metadata": {},
   "outputs": [
    {
     "data": {
      "text/plain": [
       "array(['Left', 'Right'], dtype=object)"
      ]
     },
     "execution_count": 1197,
     "metadata": {},
     "output_type": "execute_result"
    }
   ],
   "source": [
    "st_players['foot'].unique()"
   ]
  },
  {
   "cell_type": "code",
   "execution_count": 1198,
   "metadata": {},
   "outputs": [
    {
     "name": "stdout",
     "output_type": "stream",
     "text": [
      "<class 'pandas.core.frame.DataFrame'>\n",
      "Index: 49247 entries, 0 to 353191\n",
      "Data columns (total 28 columns):\n",
      " #   Column                Non-Null Count  Dtype \n",
      "---  ------                --------------  ----- \n",
      " 0   player_name           49247 non-null  object\n",
      " 1   Age                   49247 non-null  int64 \n",
      " 2   Height                49247 non-null  int64 \n",
      " 3   Weight                49247 non-null  int64 \n",
      " 4   Weak foot             49247 non-null  int64 \n",
      " 5   Skill moves           49247 non-null  int64 \n",
      " 6   Overall rating        49247 non-null  int64 \n",
      " 7   Potential             49247 non-null  int64 \n",
      " 8   Best overall          49247 non-null  int64 \n",
      " 9   Total attacking       49247 non-null  int64 \n",
      " 10  Finishing             49247 non-null  int64 \n",
      " 11  Heading accuracy      49247 non-null  int64 \n",
      " 12  Short passing         49247 non-null  int64 \n",
      " 13  Volleys               49247 non-null  int64 \n",
      " 14  Total skill           49247 non-null  int64 \n",
      " 15  Dribbling             49247 non-null  int64 \n",
      " 16  Total movement        49247 non-null  int64 \n",
      " 17  Acceleration          49247 non-null  int64 \n",
      " 18  Sprint speed          49247 non-null  int64 \n",
      " 19  Agility               49247 non-null  int64 \n",
      " 20  Balance               49247 non-null  int64 \n",
      " 21  Total power           49247 non-null  int64 \n",
      " 22  Shot power            49247 non-null  int64 \n",
      " 23  Stamina               49247 non-null  int64 \n",
      " 24  Strength              49247 non-null  int64 \n",
      " 25  Number of playstyles  49247 non-null  int64 \n",
      " 26  foot_Left             49247 non-null  bool  \n",
      " 27  foot_Right            49247 non-null  bool  \n",
      "dtypes: bool(2), int64(25), object(1)\n",
      "memory usage: 10.2+ MB\n"
     ]
    }
   ],
   "source": [
    "st_players = pd.get_dummies(st_players, columns=['foot'], prefix='foot')\n",
    "st_players.info()"
   ]
  },
  {
   "cell_type": "code",
   "execution_count": 1199,
   "metadata": {},
   "outputs": [
    {
     "name": "stdout",
     "output_type": "stream",
     "text": [
      "<class 'pandas.core.frame.DataFrame'>\n",
      "Index: 49247 entries, 0 to 353191\n",
      "Data columns (total 28 columns):\n",
      " #   Column                Non-Null Count  Dtype \n",
      "---  ------                --------------  ----- \n",
      " 0   player_name           49247 non-null  object\n",
      " 1   Age                   49247 non-null  int64 \n",
      " 2   Height                49247 non-null  int64 \n",
      " 3   Weight                49247 non-null  int64 \n",
      " 4   Weak foot             49247 non-null  int64 \n",
      " 5   Skill moves           49247 non-null  int64 \n",
      " 6   Overall rating        49247 non-null  int64 \n",
      " 7   Potential             49247 non-null  int64 \n",
      " 8   Best overall          49247 non-null  int64 \n",
      " 9   Total attacking       49247 non-null  int64 \n",
      " 10  Finishing             49247 non-null  int64 \n",
      " 11  Heading accuracy      49247 non-null  int64 \n",
      " 12  Short passing         49247 non-null  int64 \n",
      " 13  Volleys               49247 non-null  int64 \n",
      " 14  Total skill           49247 non-null  int64 \n",
      " 15  Dribbling             49247 non-null  int64 \n",
      " 16  Total movement        49247 non-null  int64 \n",
      " 17  Acceleration          49247 non-null  int64 \n",
      " 18  Sprint speed          49247 non-null  int64 \n",
      " 19  Agility               49247 non-null  int64 \n",
      " 20  Balance               49247 non-null  int64 \n",
      " 21  Total power           49247 non-null  int64 \n",
      " 22  Shot power            49247 non-null  int64 \n",
      " 23  Stamina               49247 non-null  int64 \n",
      " 24  Strength              49247 non-null  int64 \n",
      " 25  Number of playstyles  49247 non-null  int64 \n",
      " 26  foot_Left             49247 non-null  int64 \n",
      " 27  foot_Right            49247 non-null  int64 \n",
      "dtypes: int64(27), object(1)\n",
      "memory usage: 10.9+ MB\n"
     ]
    }
   ],
   "source": [
    "st_players['foot_Left'] = st_players['foot_Left'].astype(int)\n",
    "st_players['foot_Right'] = st_players['foot_Right'].astype(int)\n",
    "\n",
    "st_players.info()"
   ]
  },
  {
   "cell_type": "code",
   "execution_count": 1200,
   "metadata": {},
   "outputs": [],
   "source": [
    "st_players.to_csv('st_players.csv', index=False)"
   ]
  },
  {
   "cell_type": "code",
   "execution_count": 1201,
   "metadata": {},
   "outputs": [
    {
     "data": {
      "text/html": [
       "<div>\n",
       "<style scoped>\n",
       "    .dataframe tbody tr th:only-of-type {\n",
       "        vertical-align: middle;\n",
       "    }\n",
       "\n",
       "    .dataframe tbody tr th {\n",
       "        vertical-align: top;\n",
       "    }\n",
       "\n",
       "    .dataframe thead th {\n",
       "        text-align: right;\n",
       "    }\n",
       "</style>\n",
       "<table border=\"1\" class=\"dataframe\">\n",
       "  <thead>\n",
       "    <tr style=\"text-align: right;\">\n",
       "      <th></th>\n",
       "      <th>Age</th>\n",
       "      <th>Height</th>\n",
       "      <th>Weight</th>\n",
       "      <th>Weak foot</th>\n",
       "      <th>Skill moves</th>\n",
       "      <th>Overall rating</th>\n",
       "      <th>Potential</th>\n",
       "      <th>Best overall</th>\n",
       "      <th>Total attacking</th>\n",
       "      <th>Finishing</th>\n",
       "      <th>...</th>\n",
       "      <th>Sprint speed</th>\n",
       "      <th>Agility</th>\n",
       "      <th>Balance</th>\n",
       "      <th>Total power</th>\n",
       "      <th>Shot power</th>\n",
       "      <th>Stamina</th>\n",
       "      <th>Strength</th>\n",
       "      <th>Number of playstyles</th>\n",
       "      <th>foot_Left</th>\n",
       "      <th>foot_Right</th>\n",
       "    </tr>\n",
       "  </thead>\n",
       "  <tbody>\n",
       "    <tr>\n",
       "      <th>count</th>\n",
       "      <td>49247.000000</td>\n",
       "      <td>49247.000000</td>\n",
       "      <td>49247.000000</td>\n",
       "      <td>49247.000000</td>\n",
       "      <td>49247.000000</td>\n",
       "      <td>49247.000000</td>\n",
       "      <td>49247.000000</td>\n",
       "      <td>49247.000000</td>\n",
       "      <td>49247.000000</td>\n",
       "      <td>49247.000000</td>\n",
       "      <td>...</td>\n",
       "      <td>49247.000000</td>\n",
       "      <td>49247.000000</td>\n",
       "      <td>49247.000000</td>\n",
       "      <td>49247.000000</td>\n",
       "      <td>49247.000000</td>\n",
       "      <td>49247.000000</td>\n",
       "      <td>49247.000000</td>\n",
       "      <td>49247.000000</td>\n",
       "      <td>49247.000000</td>\n",
       "      <td>49247.000000</td>\n",
       "    </tr>\n",
       "    <tr>\n",
       "      <th>mean</th>\n",
       "      <td>24.709444</td>\n",
       "      <td>183.648425</td>\n",
       "      <td>77.528865</td>\n",
       "      <td>3.118078</td>\n",
       "      <td>2.594737</td>\n",
       "      <td>65.523605</td>\n",
       "      <td>70.844722</td>\n",
       "      <td>66.810851</td>\n",
       "      <td>296.808719</td>\n",
       "      <td>67.090665</td>\n",
       "      <td>...</td>\n",
       "      <td>70.398806</td>\n",
       "      <td>65.486832</td>\n",
       "      <td>63.680996</td>\n",
       "      <td>337.250107</td>\n",
       "      <td>67.521981</td>\n",
       "      <td>63.958860</td>\n",
       "      <td>71.006518</td>\n",
       "      <td>0.872926</td>\n",
       "      <td>0.160396</td>\n",
       "      <td>0.839604</td>\n",
       "    </tr>\n",
       "    <tr>\n",
       "      <th>std</th>\n",
       "      <td>4.872782</td>\n",
       "      <td>5.959309</td>\n",
       "      <td>6.554073</td>\n",
       "      <td>0.651902</td>\n",
       "      <td>0.571880</td>\n",
       "      <td>6.642742</td>\n",
       "      <td>6.093572</td>\n",
       "      <td>6.375562</td>\n",
       "      <td>38.142559</td>\n",
       "      <td>7.205581</td>\n",
       "      <td>...</td>\n",
       "      <td>10.260363</td>\n",
       "      <td>9.889487</td>\n",
       "      <td>11.227340</td>\n",
       "      <td>37.511204</td>\n",
       "      <td>8.369447</td>\n",
       "      <td>10.284268</td>\n",
       "      <td>11.102714</td>\n",
       "      <td>1.222021</td>\n",
       "      <td>0.366976</td>\n",
       "      <td>0.366976</td>\n",
       "    </tr>\n",
       "    <tr>\n",
       "      <th>min</th>\n",
       "      <td>16.000000</td>\n",
       "      <td>160.000000</td>\n",
       "      <td>55.000000</td>\n",
       "      <td>1.000000</td>\n",
       "      <td>2.000000</td>\n",
       "      <td>47.000000</td>\n",
       "      <td>51.000000</td>\n",
       "      <td>49.000000</td>\n",
       "      <td>190.000000</td>\n",
       "      <td>41.000000</td>\n",
       "      <td>...</td>\n",
       "      <td>29.000000</td>\n",
       "      <td>29.000000</td>\n",
       "      <td>28.000000</td>\n",
       "      <td>208.000000</td>\n",
       "      <td>43.000000</td>\n",
       "      <td>24.000000</td>\n",
       "      <td>25.000000</td>\n",
       "      <td>0.000000</td>\n",
       "      <td>0.000000</td>\n",
       "      <td>0.000000</td>\n",
       "    </tr>\n",
       "    <tr>\n",
       "      <th>25%</th>\n",
       "      <td>21.000000</td>\n",
       "      <td>180.000000</td>\n",
       "      <td>73.000000</td>\n",
       "      <td>3.000000</td>\n",
       "      <td>2.000000</td>\n",
       "      <td>61.000000</td>\n",
       "      <td>67.000000</td>\n",
       "      <td>63.000000</td>\n",
       "      <td>272.000000</td>\n",
       "      <td>62.000000</td>\n",
       "      <td>...</td>\n",
       "      <td>65.000000</td>\n",
       "      <td>59.000000</td>\n",
       "      <td>57.000000</td>\n",
       "      <td>314.000000</td>\n",
       "      <td>62.000000</td>\n",
       "      <td>57.000000</td>\n",
       "      <td>64.000000</td>\n",
       "      <td>0.000000</td>\n",
       "      <td>0.000000</td>\n",
       "      <td>1.000000</td>\n",
       "    </tr>\n",
       "    <tr>\n",
       "      <th>50%</th>\n",
       "      <td>24.000000</td>\n",
       "      <td>184.000000</td>\n",
       "      <td>77.000000</td>\n",
       "      <td>3.000000</td>\n",
       "      <td>3.000000</td>\n",
       "      <td>65.000000</td>\n",
       "      <td>71.000000</td>\n",
       "      <td>67.000000</td>\n",
       "      <td>296.000000</td>\n",
       "      <td>67.000000</td>\n",
       "      <td>...</td>\n",
       "      <td>71.000000</td>\n",
       "      <td>66.000000</td>\n",
       "      <td>65.000000</td>\n",
       "      <td>340.000000</td>\n",
       "      <td>68.000000</td>\n",
       "      <td>64.000000</td>\n",
       "      <td>72.000000</td>\n",
       "      <td>0.000000</td>\n",
       "      <td>0.000000</td>\n",
       "      <td>1.000000</td>\n",
       "    </tr>\n",
       "    <tr>\n",
       "      <th>75%</th>\n",
       "      <td>28.000000</td>\n",
       "      <td>188.000000</td>\n",
       "      <td>82.000000</td>\n",
       "      <td>3.000000</td>\n",
       "      <td>3.000000</td>\n",
       "      <td>70.000000</td>\n",
       "      <td>75.000000</td>\n",
       "      <td>71.000000</td>\n",
       "      <td>322.000000</td>\n",
       "      <td>72.000000</td>\n",
       "      <td>...</td>\n",
       "      <td>77.000000</td>\n",
       "      <td>72.000000</td>\n",
       "      <td>71.000000</td>\n",
       "      <td>364.000000</td>\n",
       "      <td>73.000000</td>\n",
       "      <td>71.000000</td>\n",
       "      <td>79.000000</td>\n",
       "      <td>1.000000</td>\n",
       "      <td>0.000000</td>\n",
       "      <td>1.000000</td>\n",
       "    </tr>\n",
       "    <tr>\n",
       "      <th>max</th>\n",
       "      <td>41.000000</td>\n",
       "      <td>206.000000</td>\n",
       "      <td>101.000000</td>\n",
       "      <td>5.000000</td>\n",
       "      <td>5.000000</td>\n",
       "      <td>91.000000</td>\n",
       "      <td>94.000000</td>\n",
       "      <td>93.000000</td>\n",
       "      <td>440.000000</td>\n",
       "      <td>96.000000</td>\n",
       "      <td>...</td>\n",
       "      <td>97.000000</td>\n",
       "      <td>93.000000</td>\n",
       "      <td>93.000000</td>\n",
       "      <td>442.000000</td>\n",
       "      <td>94.000000</td>\n",
       "      <td>94.000000</td>\n",
       "      <td>96.000000</td>\n",
       "      <td>8.000000</td>\n",
       "      <td>1.000000</td>\n",
       "      <td>1.000000</td>\n",
       "    </tr>\n",
       "  </tbody>\n",
       "</table>\n",
       "<p>8 rows × 27 columns</p>\n",
       "</div>"
      ],
      "text/plain": [
       "                Age        Height        Weight     Weak foot   Skill moves  \\\n",
       "count  49247.000000  49247.000000  49247.000000  49247.000000  49247.000000   \n",
       "mean      24.709444    183.648425     77.528865      3.118078      2.594737   \n",
       "std        4.872782      5.959309      6.554073      0.651902      0.571880   \n",
       "min       16.000000    160.000000     55.000000      1.000000      2.000000   \n",
       "25%       21.000000    180.000000     73.000000      3.000000      2.000000   \n",
       "50%       24.000000    184.000000     77.000000      3.000000      3.000000   \n",
       "75%       28.000000    188.000000     82.000000      3.000000      3.000000   \n",
       "max       41.000000    206.000000    101.000000      5.000000      5.000000   \n",
       "\n",
       "       Overall rating     Potential  Best overall  Total attacking  \\\n",
       "count    49247.000000  49247.000000  49247.000000     49247.000000   \n",
       "mean        65.523605     70.844722     66.810851       296.808719   \n",
       "std          6.642742      6.093572      6.375562        38.142559   \n",
       "min         47.000000     51.000000     49.000000       190.000000   \n",
       "25%         61.000000     67.000000     63.000000       272.000000   \n",
       "50%         65.000000     71.000000     67.000000       296.000000   \n",
       "75%         70.000000     75.000000     71.000000       322.000000   \n",
       "max         91.000000     94.000000     93.000000       440.000000   \n",
       "\n",
       "          Finishing  ...  Sprint speed       Agility       Balance  \\\n",
       "count  49247.000000  ...  49247.000000  49247.000000  49247.000000   \n",
       "mean      67.090665  ...     70.398806     65.486832     63.680996   \n",
       "std        7.205581  ...     10.260363      9.889487     11.227340   \n",
       "min       41.000000  ...     29.000000     29.000000     28.000000   \n",
       "25%       62.000000  ...     65.000000     59.000000     57.000000   \n",
       "50%       67.000000  ...     71.000000     66.000000     65.000000   \n",
       "75%       72.000000  ...     77.000000     72.000000     71.000000   \n",
       "max       96.000000  ...     97.000000     93.000000     93.000000   \n",
       "\n",
       "        Total power    Shot power       Stamina      Strength  \\\n",
       "count  49247.000000  49247.000000  49247.000000  49247.000000   \n",
       "mean     337.250107     67.521981     63.958860     71.006518   \n",
       "std       37.511204      8.369447     10.284268     11.102714   \n",
       "min      208.000000     43.000000     24.000000     25.000000   \n",
       "25%      314.000000     62.000000     57.000000     64.000000   \n",
       "50%      340.000000     68.000000     64.000000     72.000000   \n",
       "75%      364.000000     73.000000     71.000000     79.000000   \n",
       "max      442.000000     94.000000     94.000000     96.000000   \n",
       "\n",
       "       Number of playstyles     foot_Left    foot_Right  \n",
       "count          49247.000000  49247.000000  49247.000000  \n",
       "mean               0.872926      0.160396      0.839604  \n",
       "std                1.222021      0.366976      0.366976  \n",
       "min                0.000000      0.000000      0.000000  \n",
       "25%                0.000000      0.000000      1.000000  \n",
       "50%                0.000000      0.000000      1.000000  \n",
       "75%                1.000000      0.000000      1.000000  \n",
       "max                8.000000      1.000000      1.000000  \n",
       "\n",
       "[8 rows x 27 columns]"
      ]
     },
     "execution_count": 1201,
     "metadata": {},
     "output_type": "execute_result"
    }
   ],
   "source": [
    "st_players.describe()"
   ]
  },
  {
   "cell_type": "markdown",
   "metadata": {},
   "source": [
    "# Visual"
   ]
  },
  {
   "cell_type": "code",
   "execution_count": 1202,
   "metadata": {},
   "outputs": [
    {
     "data": {
      "image/png": "[encoded data removed]",
      "text/plain": [
       "<Figure size 800x500 with 1 Axes>"
      ]
     },
     "metadata": {},
     "output_type": "display_data"
    }
   ],
   "source": [
    "foot_counts = st_players[['foot_Left', 'foot_Right']].sum()\n",
    "\n",
    "plt.figure(figsize=(8, 5))\n",
    "plt.bar(foot_counts.index, foot_counts.values, color=['blue', 'orange'])\n",
    "plt.title('Số lượng cầu thủ theo chân thuận')\n",
    "plt.xlabel('Chân thuận')\n",
    "plt.ylabel('Số lượng cầu thủ')\n",
    "plt.xticks(ticks=[0, 1], labels=['Chân trái', 'Chân phải'])\n",
    "plt.grid(axis='y', linestyle='--', alpha=0.7)\n",
    "\n",
    "plt.show()"
   ]
  },
  {
   "cell_type": "code",
   "execution_count": 1203,
   "metadata": {},
   "outputs": [],
   "source": [
    "st_players = st_players[(st_players['Overall rating'] <= 86)]"
   ]
  },
  {
   "cell_type": "code",
   "execution_count": 1204,
   "metadata": {},
   "outputs": [
    {
     "data": {
      "image/png": "[encoded data removed]",
      "text/plain": [
       "<Figure size 1000x500 with 1 Axes>"
      ]
     },
     "metadata": {},
     "output_type": "display_data"
    },
    {
     "data": {
      "image/png": "[encoded data removed]",
      "text/plain": [
       "<Figure size 600x600 with 1 Axes>"
      ]
     },
     "metadata": {},
     "output_type": "display_data"
    }
   ],
   "source": [
    "plt.figure(figsize=(10, 5))\n",
    "sns.histplot(st_players['Overall rating'],bins = 40, kde=True)\n",
    "plt.title('Histogram of Overall Rating')\n",
    "plt.show()\n",
    "\n",
    "# Q-Q Plot\n",
    "plt.figure(figsize=(6, 6))\n",
    "stats.probplot(st_players['Overall rating'], dist=\"norm\", plot=plt)\n",
    "plt.title('Q-Q Plot of Overall Rating')\n",
    "plt.show()\n"
   ]
  },
  {
   "cell_type": "code",
   "execution_count": null,
   "metadata": {},
   "outputs": [
    {
     "name": "stdout",
     "output_type": "stream",
     "text": [
      "JB Statistic: 5.802259948439867\n",
      "P-value: 0.054961080350990205\n"
     ]
    }
   ],
   "source": [
    "jb_statistic, p_value = stats.jarque_bera(st_players['Overall rating'])\n",
    "\n",
    "print(f\"JB Statistic: {jb_statistic}\")\n",
    "print(f\"P-value: {p_value}\")"
   ]
  },
  {
   "cell_type": "markdown",
   "metadata": {},
   "source": [
    "H0: Không có sự khác biệt đáng kể giữa trung bình của 2 nhóm\n",
    "H1: Có sự khác biệt đáng kể giữa trung bình của 2 nhóm"
   ]
  },
  {
   "cell_type": "code",
   "execution_count": 1217,
   "metadata": {},
   "outputs": [
    {
     "name": "stdout",
     "output_type": "stream",
     "text": [
      "T-statistic: 4.607130825055766\n",
      "P-value: 4.1277253904631494e-06\n"
     ]
    }
   ],
   "source": [
    "left_footers = st_players[st_players['foot_Left'] == 1]['Overall rating']\n",
    "right_footers = st_players[st_players['foot_Right'] == 1]['Overall rating']\n",
    "\n",
    "t_statistic, p_value = stats.ttest_ind(left_footers, right_footers, equal_var=False)\n",
    "\n",
    "print(f\"T-statistic: {t_statistic}\")\n",
    "print(f\"P-value: {p_value}\")"
   ]
  },
  {
   "cell_type": "code",
   "execution_count": null,
   "metadata": {},
   "outputs": [
    {
     "name": "stderr",
     "output_type": "stream",
     "text": [
      "C:\\Users\\Admin\\AppData\\Local\\Temp\\ipykernel_15936\\309028361.py:6: FutureWarning: \n",
      "\n",
      "`shade` is now deprecated in favor of `fill`; setting `fill=True`.\n",
      "This will become an error in seaborn v0.14.0; please update your code.\n",
      "\n",
      "  sns.kdeplot(left_footers, label='Left Foot', shade=True)\n",
      "C:\\Users\\Admin\\AppData\\Local\\Temp\\ipykernel_15936\\309028361.py:7: FutureWarning: \n",
      "\n",
      "`shade` is now deprecated in favor of `fill`; setting `fill=True`.\n",
      "This will become an error in seaborn v0.14.0; please update your code.\n",
      "\n",
      "  sns.kdeplot(right_footers, label='Right Foot', shade=True)\n"
     ]
    },
    {
     "data": {
      "image/png": "[encoded data removed]",
      "text/plain": [
       "<Figure size 1000x600 with 1 Axes>"
      ]
     },
     "metadata": {},
     "output_type": "display_data"
    }
   ],
   "source": [
    "left_footers = st_players[st_players['foot_Left'] == 1]['Overall rating']\n",
    "right_footers = st_players[st_players['foot_Right'] == 1]['Overall rating']\n",
    "\n",
    "plt.figure(figsize=(10, 6))\n",
    "sns.kdeplot(left_footers, label='Left Foot', shade=True)\n",
    "sns.kdeplot(right_footers, label='Right Foot', shade=True)\n",
    "plt.title('Density Plot of Overall Rating by Foot Preference')\n",
    "plt.xlabel('Overall Rating')\n",
    "plt.ylabel('Density')\n",
    "plt.legend()\n",
    "plt.show()"
   ]
  },
  {
   "cell_type": "markdown",
   "metadata": {},
   "source": [
    "H0: Chiều cao trung bình của cầu thủ là 180 cm\n",
    "H1: Chiều cao trung bình của cầu thủ khác 180 cm"
   ]
  },
  {
   "cell_type": "code",
   "execution_count": 1243,
   "metadata": {},
   "outputs": [
    {
     "name": "stdout",
     "output_type": "stream",
     "text": [
      "T-statistic: 135.6726514049426\n",
      "P-value: 0.0\n"
     ]
    }
   ],
   "source": [
    "height_data = st_players['Height']\n",
    "\n",
    "t_stat, p_value = stats.ttest_1samp(height_data, 180)\n",
    "\n",
    "print(\"T-statistic:\", t_stat)\n",
    "print(\"P-value:\", p_value)\n"
   ]
  },
  {
   "cell_type": "code",
   "execution_count": 1248,
   "metadata": {},
   "outputs": [
    {
     "name": "stdout",
     "output_type": "stream",
     "text": [
      "Hệ số tương quan Pearson: 0.9163359118807434\n",
      "p-value: 0.0\n"
     ]
    }
   ],
   "source": [
    "correlation_coefficient, p_value = stats.pearsonr(st_players['Finishing'], st_players['Overall rating'])\n",
    "\n",
    "print(\"Hệ số tương quan Pearson:\", correlation_coefficient)\n",
    "print(\"p-value:\", p_value)"
   ]
  },
  {
   "cell_type": "code",
   "execution_count": null,
   "metadata": {},
   "outputs": [
    {
     "name": "stderr",
     "output_type": "stream",
     "text": [
      "C:\\Users\\Admin\\AppData\\Local\\Temp\\ipykernel_15936\\3235680997.py:6: UserWarning: No artists with labels found to put in legend.  Note that artists whose label start with an underscore are ignored when legend() is called with no argument.\n",
      "  plt.legend()\n"
     ]
    },
    {
     "data": {
      "image/png": "[encoded data removed]",
      "text/plain": [
       "<Figure size 1000x600 with 1 Axes>"
      ]
     },
     "metadata": {},
     "output_type": "display_data"
    }
   ],
   "source": [
    "plt.figure(figsize=(10, 6))\n",
    "sns.scatterplot(data=st_players, x='Overall rating', y='Finishing')\n",
    "plt.title('Scatter Plot of Overall Rating vs. Finishing')\n",
    "plt.xlabel('Overall Rating')\n",
    "plt.ylabel('Finishing')\n",
    "plt.legend()\n",
    "plt.grid()\n",
    "plt.show()"
   ]
  },
  {
   "cell_type": "markdown",
   "metadata": {},
   "source": [
    "# Modeling"
   ]
  },
  {
   "cell_type": "code",
   "execution_count": null,
   "metadata": {},
   "outputs": [
    {
     "name": "stdout",
     "output_type": "stream",
     "text": [
      "Mean Squared Error: 0.45096231560738265\n",
      "R^2 Score: 0.9893221255158199\n"
     ]
    }
   ],
   "source": [
    "X = st_players[['Age', 'Height', 'Weight', 'Weak foot', 'Skill moves', \n",
    "                 'Potential', 'Total attacking', 'Finishing', \n",
    "                 'Heading accuracy', 'Short passing', 'Volleys', \n",
    "                 'Total skill', 'Dribbling', 'Total movement', \n",
    "                 'Acceleration', 'Sprint speed', 'Agility', \n",
    "                 'Balance', 'Total power', 'Shot power', \n",
    "                 'Stamina', 'Strength', 'Number of playstyles', \n",
    "                 'foot_Left', 'foot_Right']]\n",
    "y = st_players['Overall rating']\n",
    "\n",
    "X_train, X_test, y_train, y_test = train_test_split(X, y, test_size=0.2, random_state=42)\n",
    "\n",
    "model = LinearRegression()\n",
    "model.fit(X_train, y_train)\n",
    "\n",
    "y_pred = model.predict(X_test)\n",
    "\n",
    "mse = mean_squared_error(y_test, y_pred)\n",
    "r2 = r2_score(y_test, y_pred)\n",
    "\n",
    "print(\"Mean Squared Error:\", mse)\n",
    "print(\"R^2 Score:\", r2)"
   ]
  }
 ],
 "metadata": {
  "kernelspec": {
   "display_name": "Python 3",
   "language": "python",
   "name": "python3"
  },
  "language_info": {
   "codemirror_mode": {
    "name": "ipython",
    "version": 3
   },
   "file_extension": ".py",
   "mimetype": "text/x-python",
   "name": "python",
   "nbconvert_exporter": "python",
   "pygments_lexer": "ipython3",
   "version": "3.11.9"
  }
 },
 "nbformat": 4,
 "nbformat_minor": 2
}
